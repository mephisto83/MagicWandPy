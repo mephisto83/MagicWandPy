{
  "nbformat": 4,
  "nbformat_minor": 0,
  "metadata": {
    "colab": {
      "provenance": [],
      "authorship_tag": "ABX9TyOWh+Ky6kPbLGvAv6exWykn",
      "include_colab_link": true
    },
    "kernelspec": {
      "name": "python3",
      "display_name": "Python 3"
    },
    "language_info": {
      "name": "python"
    }
  },
  "cells": [
    {
      "cell_type": "markdown",
      "metadata": {
        "id": "view-in-github",
        "colab_type": "text"
      },
      "source": [
        "<a href=\"https://colab.research.google.com/github/mephisto83/MagicWandPy/blob/main/MagicWand.ipynb\" target=\"_parent\"><img src=\"https://colab.research.google.com/assets/colab-badge.svg\" alt=\"Open In Colab\"/></a>"
      ]
    },
    {
      "cell_type": "code",
      "source": [
        "#Start by connecting gdrive into the google colab\n",
        "\n",
        "from google.colab import drive\n",
        "\n",
        "drive.mount('/content/gdrive')"
      ],
      "metadata": {
        "colab": {
          "base_uri": "https://localhost:8080/"
        },
        "id": "SqQ21YsZl_T9",
        "outputId": "0748b566-8929-4be0-b18f-63ff8d9704b3"
      },
      "execution_count": null,
      "outputs": [
        {
          "output_type": "stream",
          "name": "stdout",
          "text": [
            "Drive already mounted at /content/gdrive; to attempt to forcibly remount, call drive.mount(\"/content/gdrive\", force_remount=True).\n"
          ]
        }
      ]
    },
    {
      "cell_type": "code",
      "source": [
        "source_folder = \"/content/gdrive/Othercomputers/My Computer/output\" #@param {type:\"string\"} \"cfg/training/yolov7_pothole-tiny.yaml\"\n",
        "output_folder = \"/content/gdrive/MyDrive/midas/backgroundRemoval\" #@param {type:\"string\"} \"cfg/training/yolov7_pothole-tiny.yaml\"\n"
      ],
      "metadata": {
        "id": "2m7kocHEmGVN"
      },
      "execution_count": null,
      "outputs": []
    },
    {
      "cell_type": "code",
      "source": [
        "import os\n",
        "from PIL import Image\n",
        "import numpy as np\n",
        "\n",
        "def save_numpy_as_png_with_alpha(image, file_name):\n",
        "    # If the image has only 3 channels, add an alpha channel with full opacity\n",
        "    if image.shape[2] == 3:\n",
        "        alpha = np.ones((image.shape[0], image.shape[1], 1), dtype=np.uint8) * 255\n",
        "        image = np.concatenate((image, alpha), axis=2)\n",
        "\n",
        "    # Create a PIL image from the numpy array with mode 'RGBA'\n",
        "    image_rgba = Image.fromarray(image, mode='RGBA')\n",
        "\n",
        "    # Save the image as a PNG file\n",
        "    image_rgba.save(file_name)\n",
        "\n",
        "def compare_folder_files(folder_path1, folder_path2):\n",
        "    # Get the list of files in each folder\n",
        "    files1 = os.listdir(folder_path1)\n",
        "    files2 = os.listdir(folder_path2)\n",
        "\n",
        "    # Filter out any subdirectories in each folder\n",
        "    files1 = [f for f in files1 if os.path.isfile(os.path.join(folder_path1, f))]\n",
        "    files2 = [f for f in files2 if os.path.isfile(os.path.join(folder_path2, f))]\n",
        "\n",
        "    # Find the files in folder1 that don't have matching names in folder2\n",
        "    unique_files = [os.path.join(folder_path1, f) for f in files1 if f not in files2]\n",
        "\n",
        "    # Return the list of unique file paths\n",
        "    return unique_files\n",
        "\n",
        "def get_file_name(file_path):\n",
        "    # Get the base name of the file (i.e. the last part of the path)\n",
        "    base_name = os.path.basename(file_path)\n",
        "\n",
        "    # Return the base name, which includes the extension\n",
        "    return base_name"
      ],
      "metadata": {
        "id": "rl67_NR9mLvE"
      },
      "execution_count": null,
      "outputs": []
    },
    {
      "cell_type": "code",
      "execution_count": null,
      "metadata": {
        "id": "xGquPZhMl6um"
      },
      "outputs": [],
      "source": [
        "from PIL import Image, ImageChops\n",
        "\n",
        "def magic_wand(file_path, tolerance=10, file_output_path=None):\n",
        "    # Open the image file\n",
        "    image = Image.open(file_path)\n",
        "\n",
        "    # Find a color close to white in each of the four corners\n",
        "    reference_colors = []\n",
        "    for x in [0, image.width - 1]:\n",
        "        for y in [0, image.height - 1]:\n",
        "            quadrant = image.crop((x, y, x + image.width // 2, y + image.height // 2))\n",
        "            reference_colors.append(quadrant.getpixel((0, 0)))\n",
        "\n",
        "    # Create a blank image with the same size as the original image\n",
        "    result = Image.new('RGBA', image.size, (0, 0, 0, 0))\n",
        "\n",
        "    # Iterate over each reference color and mask\n",
        "    for reference_color in reference_colors:\n",
        "        # Create a blank mask for this reference color\n",
        "        mask = Image.new('RGBA', image.size, (0, 0, 0, 0))\n",
        "\n",
        "        # Use a queue to keep track of pixels to check\n",
        "        queue = [(0, 0)]\n",
        "\n",
        "        # Iterate over the queue until it's empty\n",
        "        while queue:\n",
        "            # Pop the next pixel from the queue\n",
        "            x, y = queue.pop(0)\n",
        "\n",
        "            # Skip if the pixel has already been processed\n",
        "            if mask.getpixel((x, y))[3] != 0:\n",
        "                continue\n",
        "\n",
        "            # Get the color of the current pixel\n",
        "            current_color = image.getpixel((x, y))\n",
        "\n",
        "            # Calculate the difference in color between the current pixel and the reference color\n",
        "            color_difference = sum([abs(reference_color[k] - current_color[k]) for k in range(3)])\n",
        "\n",
        "            # If the difference in color is within the tolerance, set the pixel in the mask to white\n",
        "            if color_difference <= tolerance:\n",
        "                mask.putpixel((x, y), (255, 255, 255, 255))\n",
        "\n",
        "                # Add neighboring pixels to the queue\n",
        "                if x > 0:\n",
        "                    queue.append((x - 1, y))\n",
        "                if y > 0:\n",
        "                    queue.append((x, y - 1))\n",
        "                if x < image.size[0] - 1:\n",
        "                    queue.append((x + 1, y))\n",
        "                if y < image.size[1] - 1:\n",
        "                    queue.append((x, y + 1))\n",
        "\n",
        "        # Invert the mask to select the contiguous area\n",
        "        mask = ImageChops.invert(mask)\n",
        "\n",
        "        # Paste the original image onto the result image using the mask\n",
        "        result.paste(image, (0, 0), mask)\n",
        "\n",
        "    # Save the result image as a PNG if file_output_path is provided\n",
        "    if file_output_path:\n",
        "        result.save(file_output_path)\n",
        "\n",
        "    return result\n"
      ]
    },
    {
      "cell_type": "code",
      "source": [
        "files = compare_folder_files(source_folder, output_folder)\n",
        "for i in range(len(files)): # \n",
        "  filename = files[i]\n",
        "  output_file_path = os.path.join(output_folder, get_file_name(filename))\n",
        "  tolerance = 40\n",
        "  magic_wand(filename, tolerance, output_file_path)\n"
      ],
      "metadata": {
        "id": "9TVdYdgSmxkP"
      },
      "execution_count": null,
      "outputs": []
    }
  ]
}